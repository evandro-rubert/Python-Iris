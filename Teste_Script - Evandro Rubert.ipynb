{
  "metadata": {
    "language_info": {
      "codemirror_mode": {
        "name": "python",
        "version": 3
      },
      "file_extension": ".py",
      "mimetype": "text/x-python",
      "name": "python",
      "nbconvert_exporter": "python",
      "pygments_lexer": "ipython3",
      "version": "3.8"
    },
    "kernelspec": {
      "name": "python",
      "display_name": "Python (Pyodide)",
      "language": "python"
    }
  },
  "nbformat_minor": 4,
  "nbformat": 4,
  "cells": [
    {
      "cell_type": "code",
      "source": "# importando pacotes\nimport pandas as pd\nimport numpy as np\nimport scipy as sp\nfrom sklearn.neighbors import KNeighborsClassifier\n\n# carregando banco de dados\ndados_iris = pd.read_csv('iris.csv') # precisei fazer uma pequena alteração na primeira linha da coluna 'species'. \n                                        #Estava escrito apenas 'se' ao invés de 'setosa'\n\n# transformando variáveis categóricas em variáveis numéricas\nmapping_dictionary = {'setosa': 0,\n                      'versicolor': 1,\n                      'virginica': 2,\n                     }\ndados_iris['species'] = dados_iris.species.map(mapping_dictionary)\n\n# definindo parametros\ntrain_input_features = np.array(dados_iris.drop(labels = 'species', axis = 1))\ntrain_outputs = np.array(dados_iris.species)\nforecast_features = np.array(dados_iris.drop(labels = 'species', axis = 1)) \n\n# definindo a função\ndef classificador(x, y, z):\n    \n    # criando lista vazia para armazenar as predições\n    lista = []\n    \n    # criando um classificador (classifier)\n    classifier = KNeighborsClassifier(n_neighbors = 3)\n\n    # treinando o classificador\n    classifier.fit(x, y)\n    \n    # fazendo predição para cada um dos elementos em forecast_features e armazenando em lista\n    for i in range(len(z)):\n        \n        # adiciona cada previsão de z[i] ao final da lista\n        lista.append(classifier.predict([z[i]])[0]) # acrescentei [0] ao final para coletar apenas o primeiro elemento da previsão \n                                                    # pois ela vem no formato array com 2 elementos (o segundo é irrelevante)                  \n    \n    # escreve a lista com as previsões\n    print(lista)\n    # pensei em usar return ao invés de print, mas return deixa a lista em formato vertical, o que dificulta a visualização\n    \n# chama a função criada, e aplica à ela os parâmetros gerados anteriormente\nclassificador(train_input_features, train_outputs, forecast_features)",
      "metadata": {
        "trusted": true
      },
      "execution_count": 10,
      "outputs": [
        {
          "name": "stdout",
          "text": "[0, 0, 0, 0, 0, 0, 0, 0, 0, 0, 0, 0, 0, 0, 0, 0, 0, 0, 0, 0, 0, 0, 0, 0, 0, 0, 0, 0, 0, 0, 0, 0, 0, 0, 0, 0, 0, 0, 0, 0, 0, 0, 0, 0, 0, 0, 0, 0, 0, 0, 1, 1, 1, 1, 1, 1, 1, 1, 1, 1, 1, 1, 1, 1, 1, 1, 1, 1, 1, 1, 2, 1, 2, 1, 1, 1, 1, 1, 1, 1, 1, 1, 1, 2, 1, 1, 1, 1, 1, 1, 1, 1, 1, 1, 1, 1, 1, 1, 1, 1, 2, 2, 2, 2, 2, 2, 1, 2, 2, 2, 2, 2, 2, 2, 2, 2, 2, 2, 2, 1, 2, 2, 2, 2, 2, 2, 2, 2, 2, 2, 2, 2, 2, 1, 2, 2, 2, 2, 2, 2, 2, 2, 2, 2, 2, 2, 2, 2, 2, 2]\n",
          "output_type": "stream"
        }
      ]
    },
    {
      "cell_type": "code",
      "source": "",
      "metadata": {},
      "execution_count": null,
      "outputs": []
    }
  ]
}